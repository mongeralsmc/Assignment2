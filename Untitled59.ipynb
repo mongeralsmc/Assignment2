{
 "cells": [
  {
   "cell_type": "code",
   "execution_count": 1,
   "id": "e8c22bbf",
   "metadata": {},
   "outputs": [
    {
     "name": "stdout",
     "output_type": "stream",
     "text": [
      "Updated Weights: w1=0.150, w2=0.200, w3=0.250, w4=0.300, w5=0.359, w6=0.409, w7=0.511, w8=0.561\n"
     ]
    }
   ],
   "source": [
    "import math\n",
    "\n",
    "def sigmoid(x):\n",
    "    return 1 / (1 + math.exp(-x))\n",
    "\n",
    "def sigmoid_derivative(x):\n",
    "    return x * (1 - x)\n",
    "\n",
    " \n",
    "i1, i2 = 0.05, 0.10\n",
    "\n",
    "target_o1, target_o2 = 0.01, 0.99\n",
    "\n",
    "w1, w2, w3, w4 = 0.15, 0.20, 0.25, 0.30\n",
    "w5, w6, w7, w8 = 0.40, 0.45, 0.50, 0.55\n",
    "\n",
    "b1, b2, b3 = 0.35, 0.35, 0.60\n",
    "\n",
    "eta = 0.5\n",
    "\n",
    "neth1 = (w1 * i1) + (w2 * i2) + b1\n",
    "outh1 = sigmoid(neth1)\n",
    "\n",
    "neth2 = (w3 * i1) + (w4 * i2) + b2\n",
    "outh2 = sigmoid(neth2)\n",
    "\n",
    "neto1 = (w5 * outh1) + (w6 * outh2) + b3\n",
    "o1 = sigmoid(neto1)\n",
    "\n",
    "neto2 = (w7 * outh1) + (w8 * outh2) + b3\n",
    "o2 = sigmoid(neto2)\n",
    "\n",
    "Eo1 = 0.5 * (target_o1 - o1) ** 2\n",
    "Eo2 = 0.5 * (target_o2 - o2) ** 2\n",
    "E_total = Eo1 + Eo2\n",
    "\n",
    "delta_o1 = (o1 - target_o1) * sigmoid_derivative(o1)\n",
    "delta_o2 = (o2 - target_o2) * sigmoid_derivative(o2)\n",
    "\n",
    "delta_w5 = delta_o1 * outh1\n",
    "delta_w6 = delta_o1 * outh2\n",
    "delta_w7 = delta_o2 * outh1\n",
    "delta_w8 = delta_o2 * outh2\n",
    "\n",
    "w5 -= eta * delta_w5\n",
    "w6 -= eta * delta_w6\n",
    "w7 -= eta * delta_w7\n",
    "w8 -= eta * delta_w8\n",
    "\n",
    "delta_h1 = (delta_o1 * w5 + delta_o2 * w7) * sigmoid_derivative(outh1)\n",
    "delta_h2 = (delta_o1 * w6 + delta_o2 * w8) * sigmoid_derivative(outh2)\n",
    "\n",
    "delta_w1 = delta_h1 * i1\n",
    "delta_w2 = delta_h1 * i2\n",
    "delta_w3 = delta_h2 * i1\n",
    "delta_w4 = delta_h2 * i2\n",
    "\n",
    "w1 -= eta * delta_w1\n",
    "w2 -= eta * delta_w2\n",
    "w3 -= eta * delta_w3\n",
    "w4 -= eta * delta_w4\n",
    "\n",
    "print(f\"Updated Weights: w1={w1:.3f}, w2={w2:.3f}, w3={w3:.3f}, w4={w4:.3f}, w5={w5:.3f}, w6={w6:.3f}, w7={w7:.3f}, w8={w8:.3f}\")"
   ]
  },
  {
   "cell_type": "code",
   "execution_count": null,
   "id": "f4b35698",
   "metadata": {},
   "outputs": [],
   "source": []
  }
 ],
 "metadata": {
  "kernelspec": {
   "display_name": "Python 3 (ipykernel)",
   "language": "python",
   "name": "python3"
  },
  "language_info": {
   "codemirror_mode": {
    "name": "ipython",
    "version": 3
   },
   "file_extension": ".py",
   "mimetype": "text/x-python",
   "name": "python",
   "nbconvert_exporter": "python",
   "pygments_lexer": "ipython3",
   "version": "3.11.5"
  }
 },
 "nbformat": 4,
 "nbformat_minor": 5
}
